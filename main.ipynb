{
 "cells": [
  {
   "cell_type": "code",
   "execution_count": 13,
   "metadata": {},
   "outputs": [],
   "source": [
    "import numpy as np # linear algebra\n",
    "import pandas as pd # data processing, CSV file I/O (e.g. pd.read_csv)\n",
    "import seaborn as sns\n",
    "import matplotlib.pyplot as plt\n",
    "from scipy.stats import skew\n",
    "from scipy.special import boxcox1p\n",
    "\n",
    "from heamy.dataset import Dataset\n",
    "from heamy.estimator import Classifier\n",
    "from heamy.pipeline import ModelsPipeline\n",
    "\n",
    "import os\n",
    "\n",
    "train = pd.read_csv('./input/train.csv')\n",
    "#test = pd.read_csv('./input/test.csv')\n",
    "#ommiting test data as it is too large.\n",
    "\n",
    "\n",
    "target_values = train.Cover_Type.values\n",
    "\n",
    "temp = train\n",
    "\n",
    "\n",
    "#df =  pd.concat([temp, test], axis=0).reset_index(drop=True)\n",
    "df = train"
   ]
  },
  {
   "cell_type": "code",
   "execution_count": 6,
   "metadata": {},
   "outputs": [],
   "source": [
    "#Creating new features\n",
    "df['Radial_Distance_To_Hydrology'] = np.sqrt((df['Horizontal_Distance_To_Hydrology'])**2 + (df['Vertical_Distance_To_Hydrology']**2))\n",
    "g = df.Elevation.mean()\n",
    "df['Elevation_normal_sq'] = df['Elevation'].apply(lambda x: (x - g)**2)\n",
    "df[\"Slope*Elevation\"] = df[\"Slope\"] * df[\"Elevation\"]\n",
    "df[\"Vertical_Distance_To_Hydrology\"] = abs(df['Vertical_Distance_To_Hydrology'])\n"
   ]
  },
  {
   "cell_type": "code",
   "execution_count": 7,
   "metadata": {},
   "outputs": [
    {
     "data": {
      "text/html": [
       "<div>\n",
       "<style scoped>\n",
       "    .dataframe tbody tr th:only-of-type {\n",
       "        vertical-align: middle;\n",
       "    }\n",
       "\n",
       "    .dataframe tbody tr th {\n",
       "        vertical-align: top;\n",
       "    }\n",
       "\n",
       "    .dataframe thead th {\n",
       "        text-align: right;\n",
       "    }\n",
       "</style>\n",
       "<table border=\"1\" class=\"dataframe\">\n",
       "  <thead>\n",
       "    <tr style=\"text-align: right;\">\n",
       "      <th></th>\n",
       "      <th>Elevation</th>\n",
       "      <th>Aspect</th>\n",
       "      <th>Slope</th>\n",
       "      <th>Horizontal_Distance_To_Hydrology</th>\n",
       "      <th>Vertical_Distance_To_Hydrology</th>\n",
       "      <th>Horizontal_Distance_To_Roadways</th>\n",
       "      <th>Hillshade_9am</th>\n",
       "      <th>Hillshade_Noon</th>\n",
       "      <th>Hillshade_3pm</th>\n",
       "    </tr>\n",
       "  </thead>\n",
       "  <tbody>\n",
       "    <tr>\n",
       "      <th>0</th>\n",
       "      <td>2596</td>\n",
       "      <td>51</td>\n",
       "      <td>3</td>\n",
       "      <td>258</td>\n",
       "      <td>0</td>\n",
       "      <td>510</td>\n",
       "      <td>221</td>\n",
       "      <td>232</td>\n",
       "      <td>148</td>\n",
       "    </tr>\n",
       "    <tr>\n",
       "      <th>1</th>\n",
       "      <td>2590</td>\n",
       "      <td>56</td>\n",
       "      <td>2</td>\n",
       "      <td>212</td>\n",
       "      <td>6</td>\n",
       "      <td>390</td>\n",
       "      <td>220</td>\n",
       "      <td>235</td>\n",
       "      <td>151</td>\n",
       "    </tr>\n",
       "    <tr>\n",
       "      <th>2</th>\n",
       "      <td>2804</td>\n",
       "      <td>139</td>\n",
       "      <td>9</td>\n",
       "      <td>268</td>\n",
       "      <td>65</td>\n",
       "      <td>3180</td>\n",
       "      <td>234</td>\n",
       "      <td>238</td>\n",
       "      <td>135</td>\n",
       "    </tr>\n",
       "    <tr>\n",
       "      <th>3</th>\n",
       "      <td>2785</td>\n",
       "      <td>155</td>\n",
       "      <td>18</td>\n",
       "      <td>242</td>\n",
       "      <td>118</td>\n",
       "      <td>3090</td>\n",
       "      <td>238</td>\n",
       "      <td>238</td>\n",
       "      <td>122</td>\n",
       "    </tr>\n",
       "    <tr>\n",
       "      <th>4</th>\n",
       "      <td>2595</td>\n",
       "      <td>45</td>\n",
       "      <td>2</td>\n",
       "      <td>153</td>\n",
       "      <td>1</td>\n",
       "      <td>391</td>\n",
       "      <td>220</td>\n",
       "      <td>234</td>\n",
       "      <td>150</td>\n",
       "    </tr>\n",
       "  </tbody>\n",
       "</table>\n",
       "</div>"
      ],
      "text/plain": [
       "   Elevation  Aspect  Slope  Horizontal_Distance_To_Hydrology  \\\n",
       "0       2596      51      3                               258   \n",
       "1       2590      56      2                               212   \n",
       "2       2804     139      9                               268   \n",
       "3       2785     155     18                               242   \n",
       "4       2595      45      2                               153   \n",
       "\n",
       "   Vertical_Distance_To_Hydrology  Horizontal_Distance_To_Roadways  \\\n",
       "0                               0                              510   \n",
       "1                               6                              390   \n",
       "2                              65                             3180   \n",
       "3                             118                             3090   \n",
       "4                               1                              391   \n",
       "\n",
       "   Hillshade_9am  Hillshade_Noon  Hillshade_3pm  \n",
       "0            221             232            148  \n",
       "1            220             235            151  \n",
       "2            234             238            135  \n",
       "3            238             238            122  \n",
       "4            220             234            150  "
      ]
     },
     "execution_count": 7,
     "metadata": {},
     "output_type": "execute_result"
    }
   ],
   "source": [
    "tempdf = df.iloc[:,1:10]\n",
    "tempdf.head()"
   ]
  },
  {
   "cell_type": "code",
   "execution_count": 8,
   "metadata": {},
   "outputs": [
    {
     "data": {
      "text/plain": [
       "<AxesSubplot:>"
      ]
     },
     "execution_count": 8,
     "metadata": {},
     "output_type": "execute_result"
    },
    {
     "data": {
      "image/png": "[encoded data removed]",
      "text/plain": [
       "<Figure size 432x288 with 2 Axes>"
      ]
     },
     "metadata": {
      "needs_background": "light"
     },
     "output_type": "display_data"
    }
   ],
   "source": [
    "sns.heatmap(tempdf.corr(),annot = True,fmt = '.2f')"
   ]
  },
  {
   "cell_type": "code",
   "execution_count": 10,
   "metadata": {
    "scrolled": true
   },
   "outputs": [
    {
     "data": {
      "text/plain": [
       "<seaborn.axisgrid.FacetGrid at 0x1ea94f40>"
      ]
     },
     "execution_count": 10,
     "metadata": {},
     "output_type": "execute_result"
    },
    {
     "data": {
      "image/png": "[encoded data removed]",
      "text/plain": [
       "<Figure size 360x360 with 1 Axes>"
      ]
     },
     "metadata": {
      "needs_background": "light"
     },
     "output_type": "display_data"
    }
   ],
   "source": [
    "sns.displot(df.Elevation)"
   ]
  },
  {
   "cell_type": "code",
   "execution_count": 14,
   "metadata": {},
   "outputs": [
    {
     "data": {
      "text/plain": [
       "<AxesSubplot:ylabel='median'>"
      ]
     },
     "execution_count": 14,
     "metadata": {},
     "output_type": "execute_result"
    },
    {
     "data": {
      "image/png": "[encoded data removed]",
      "text/plain": [
       "<Figure size 432x288 with 1 Axes>"
      ]
     },
     "metadata": {
      "needs_background": "light"
     },
     "output_type": "display_data"
    }
   ],
   "source": [
    "g = train.groupby('Cover_Type').Elevation.agg([np.median])\n",
    "f = g.index.values\n",
    "sns.barplot(x = f, y = 'median',data = g)"
   ]
  },
  {
   "cell_type": "code",
   "execution_count": 15,
   "metadata": {},
   "outputs": [
    {
     "data": {
      "text/plain": [
       "<AxesSubplot:ylabel='median'>"
      ]
     },
     "execution_count": 15,
     "metadata": {},
     "output_type": "execute_result"
    },
    {
     "data": {
      "image/png": "[encoded data removed]",
      "text/plain": [
       "<Figure size 432x288 with 1 Axes>"
      ]
     },
     "metadata": {
      "needs_background": "light"
     },
     "output_type": "display_data"
    }
   ],
   "source": [
    "g = train.groupby('Cover_Type').Aspect.agg([np.median])\n",
    "f = g.index.values\n",
    "sns.barplot(x = f, y = 'median',data = g)"
   ]
  },
  {
   "cell_type": "code",
   "execution_count": 16,
   "metadata": {},
   "outputs": [
    {
     "name": "stderr",
     "output_type": "stream",
     "text": [
      "c:\\users\\shygu\\appdata\\local\\programs\\python\\python38-32\\lib\\site-packages\\seaborn\\distributions.py:2557: FutureWarning: `distplot` is a deprecated function and will be removed in a future version. Please adapt your code to use either `displot` (a figure-level function with similar flexibility) or `histplot` (an axes-level function for histograms).\n",
      "  warnings.warn(msg, FutureWarning)\n"
     ]
    },
    {
     "data": {
      "text/plain": [
       "<AxesSubplot:xlabel='Slope', ylabel='Density'>"
      ]
     },
     "execution_count": 16,
     "metadata": {},
     "output_type": "execute_result"
    },
    {
     "data": {
      "image/png": "[encoded data removed]",
      "text/plain": [
       "<Figure size 432x288 with 1 Axes>"
      ]
     },
     "metadata": {
      "needs_background": "light"
     },
     "output_type": "display_data"
    }
   ],
   "source": [
    "sns.distplot(df.Slope)"
   ]
  },
  {
   "cell_type": "code",
   "execution_count": 17,
   "metadata": {},
   "outputs": [
    {
     "name": "stderr",
     "output_type": "stream",
     "text": [
      "c:\\users\\shygu\\appdata\\local\\programs\\python\\python38-32\\lib\\site-packages\\seaborn\\distributions.py:2557: FutureWarning: `distplot` is a deprecated function and will be removed in a future version. Please adapt your code to use either `displot` (a figure-level function with similar flexibility) or `histplot` (an axes-level function for histograms).\n",
      "  warnings.warn(msg, FutureWarning)\n"
     ]
    },
    {
     "data": {
      "text/plain": [
       "<AxesSubplot:xlabel='Horizontal_Distance_To_Hydrology', ylabel='Density'>"
      ]
     },
     "execution_count": 17,
     "metadata": {},
     "output_type": "execute_result"
    },
    {
     "data": {
      "image/png": "[encoded data removed]",
      "text/plain": [
       "<Figure size 432x288 with 1 Axes>"
      ]
     },
     "metadata": {
      "needs_background": "light"
     },
     "output_type": "display_data"
    }
   ],
   "source": [
    "sns.distplot(df.Horizontal_Distance_To_Hydrology)"
   ]
  },
  {
   "cell_type": "code",
   "execution_count": 18,
   "metadata": {},
   "outputs": [
    {
     "data": {
      "text/plain": [
       "<AxesSubplot:ylabel='median'>"
      ]
     },
     "execution_count": 18,
     "metadata": {},
     "output_type": "execute_result"
    },
    {
     "data": {
      "image/png": "[encoded data removed]",
      "text/plain": [
       "<Figure size 432x288 with 1 Axes>"
      ]
     },
     "metadata": {
      "needs_background": "light"
     },
     "output_type": "display_data"
    }
   ],
   "source": [
    "g = train.groupby('Cover_Type').Vertical_Distance_To_Hydrology.agg([np.median])\n",
    "f = g.index.values\n",
    "sns.barplot(x = f, y = 'median',data = g)"
   ]
  },
  {
   "cell_type": "code",
   "execution_count": 19,
   "metadata": {},
   "outputs": [
    {
     "name": "stderr",
     "output_type": "stream",
     "text": [
      "<ipython-input-19-5a81e47d1bc5>:3: SettingWithCopyWarning: \n",
      "A value is trying to be set on a copy of a slice from a DataFrame.\n",
      "Try using .loc[row_indexer,col_indexer] = value instead\n",
      "\n",
      "See the caveats in the documentation: https://pandas.pydata.org/pandas-docs/stable/user_guide/indexing.html#returning-a-view-versus-a-copy\n",
      "  tempdf['Target'] = target_values\n"
     ]
    },
    {
     "data": {
      "text/plain": [
       "<AxesSubplot:xlabel='Target', ylabel='value'>"
      ]
     },
     "execution_count": 19,
     "metadata": {},
     "output_type": "execute_result"
    },
    {
     "data": {
      "image/png": "[encoded data removed]",
      "text/plain": [
       "<Figure size 842.4x595.44 with 1 Axes>"
      ]
     },
     "metadata": {},
     "output_type": "display_data"
    }
   ],
   "source": [
    "df.head()\n",
    "tempdf = train.iloc[:,7:10]\n",
    "tempdf['Target'] = target_values\n",
    "tempdf\n",
    "tempdf = pd.melt(tempdf,id_vars = ['Target'],var_name = 'a')\n",
    "\n",
    "sns.set(rc={'figure.figsize':(11.7,8.27)})\n",
    "sns.barplot(x = 'Target', y= 'value',data = tempdf,hue = 'a')"
   ]
  },
  {
   "cell_type": "code",
   "execution_count": 20,
   "metadata": {},
   "outputs": [
    {
     "data": {
      "text/html": [
       "<div>\n",
       "<style scoped>\n",
       "    .dataframe tbody tr th:only-of-type {\n",
       "        vertical-align: middle;\n",
       "    }\n",
       "\n",
       "    .dataframe tbody tr th {\n",
       "        vertical-align: top;\n",
       "    }\n",
       "\n",
       "    .dataframe thead th {\n",
       "        text-align: right;\n",
       "    }\n",
       "</style>\n",
       "<table border=\"1\" class=\"dataframe\">\n",
       "  <thead>\n",
       "    <tr style=\"text-align: right;\">\n",
       "      <th></th>\n",
       "      <th>Id</th>\n",
       "      <th>Elevation</th>\n",
       "      <th>Aspect</th>\n",
       "      <th>Slope</th>\n",
       "      <th>Horizontal_Distance_To_Hydrology</th>\n",
       "      <th>Vertical_Distance_To_Hydrology</th>\n",
       "      <th>Horizontal_Distance_To_Roadways</th>\n",
       "      <th>Hillshade_9am</th>\n",
       "      <th>Hillshade_Noon</th>\n",
       "      <th>Hillshade_3pm</th>\n",
       "      <th>...</th>\n",
       "      <th>Soil_Type31</th>\n",
       "      <th>Soil_Type32</th>\n",
       "      <th>Soil_Type33</th>\n",
       "      <th>Soil_Type34</th>\n",
       "      <th>Soil_Type35</th>\n",
       "      <th>Soil_Type36</th>\n",
       "      <th>Soil_Type37</th>\n",
       "      <th>Soil_Type38</th>\n",
       "      <th>Soil_Type39</th>\n",
       "      <th>Soil_Type40</th>\n",
       "    </tr>\n",
       "    <tr>\n",
       "      <th>Cover_Type</th>\n",
       "      <th></th>\n",
       "      <th></th>\n",
       "      <th></th>\n",
       "      <th></th>\n",
       "      <th></th>\n",
       "      <th></th>\n",
       "      <th></th>\n",
       "      <th></th>\n",
       "      <th></th>\n",
       "      <th></th>\n",
       "      <th></th>\n",
       "      <th></th>\n",
       "      <th></th>\n",
       "      <th></th>\n",
       "      <th></th>\n",
       "      <th></th>\n",
       "      <th></th>\n",
       "      <th></th>\n",
       "      <th></th>\n",
       "      <th></th>\n",
       "      <th></th>\n",
       "    </tr>\n",
       "  </thead>\n",
       "  <tbody>\n",
       "    <tr>\n",
       "      <th>1</th>\n",
       "      <td>17271528</td>\n",
       "      <td>6756536</td>\n",
       "      <td>344441</td>\n",
       "      <td>28324</td>\n",
       "      <td>586456</td>\n",
       "      <td>89168</td>\n",
       "      <td>5572186</td>\n",
       "      <td>457251</td>\n",
       "      <td>482217</td>\n",
       "      <td>311182</td>\n",
       "      <td>...</td>\n",
       "      <td>114</td>\n",
       "      <td>230</td>\n",
       "      <td>184</td>\n",
       "      <td>0</td>\n",
       "      <td>3</td>\n",
       "      <td>0</td>\n",
       "      <td>0</td>\n",
       "      <td>80</td>\n",
       "      <td>79</td>\n",
       "      <td>49</td>\n",
       "    </tr>\n",
       "    <tr>\n",
       "      <th>2</th>\n",
       "      <td>13635425</td>\n",
       "      <td>6312687</td>\n",
       "      <td>326370</td>\n",
       "      <td>28995</td>\n",
       "      <td>621494</td>\n",
       "      <td>102250</td>\n",
       "      <td>5239710</td>\n",
       "      <td>462336</td>\n",
       "      <td>486799</td>\n",
       "      <td>308774</td>\n",
       "      <td>...</td>\n",
       "      <td>97</td>\n",
       "      <td>255</td>\n",
       "      <td>184</td>\n",
       "      <td>12</td>\n",
       "      <td>1</td>\n",
       "      <td>2</td>\n",
       "      <td>0</td>\n",
       "      <td>7</td>\n",
       "      <td>3</td>\n",
       "      <td>3</td>\n",
       "    </tr>\n",
       "    <tr>\n",
       "      <th>3</th>\n",
       "      <td>17555481</td>\n",
       "      <td>5180594</td>\n",
       "      <td>375133</td>\n",
       "      <td>44558</td>\n",
       "      <td>455162</td>\n",
       "      <td>138417</td>\n",
       "      <td>2094327</td>\n",
       "      <td>435576</td>\n",
       "      <td>467772</td>\n",
       "      <td>305747</td>\n",
       "      <td>...</td>\n",
       "      <td>0</td>\n",
       "      <td>5</td>\n",
       "      <td>0</td>\n",
       "      <td>0</td>\n",
       "      <td>0</td>\n",
       "      <td>0</td>\n",
       "      <td>0</td>\n",
       "      <td>0</td>\n",
       "      <td>0</td>\n",
       "      <td>0</td>\n",
       "    </tr>\n",
       "    <tr>\n",
       "      <th>4</th>\n",
       "      <td>13725905</td>\n",
       "      <td>4802588</td>\n",
       "      <td>298295</td>\n",
       "      <td>39892</td>\n",
       "      <td>225801</td>\n",
       "      <td>86710</td>\n",
       "      <td>1976617</td>\n",
       "      <td>492411</td>\n",
       "      <td>468482</td>\n",
       "      <td>241507</td>\n",
       "      <td>...</td>\n",
       "      <td>0</td>\n",
       "      <td>0</td>\n",
       "      <td>0</td>\n",
       "      <td>0</td>\n",
       "      <td>0</td>\n",
       "      <td>0</td>\n",
       "      <td>0</td>\n",
       "      <td>0</td>\n",
       "      <td>0</td>\n",
       "      <td>0</td>\n",
       "    </tr>\n",
       "    <tr>\n",
       "      <th>5</th>\n",
       "      <td>14011489</td>\n",
       "      <td>6019491</td>\n",
       "      <td>298063</td>\n",
       "      <td>36125</td>\n",
       "      <td>451166</td>\n",
       "      <td>109882</td>\n",
       "      <td>2871328</td>\n",
       "      <td>482477</td>\n",
       "      <td>471565</td>\n",
       "      <td>262208</td>\n",
       "      <td>...</td>\n",
       "      <td>87</td>\n",
       "      <td>100</td>\n",
       "      <td>115</td>\n",
       "      <td>4</td>\n",
       "      <td>0</td>\n",
       "      <td>0</td>\n",
       "      <td>0</td>\n",
       "      <td>0</td>\n",
       "      <td>0</td>\n",
       "      <td>0</td>\n",
       "    </tr>\n",
       "    <tr>\n",
       "      <th>6</th>\n",
       "      <td>17412419</td>\n",
       "      <td>5234278</td>\n",
       "      <td>390133</td>\n",
       "      <td>41010</td>\n",
       "      <td>345806</td>\n",
       "      <td>96927</td>\n",
       "      <td>2300358</td>\n",
       "      <td>418096</td>\n",
       "      <td>453515</td>\n",
       "      <td>318994</td>\n",
       "      <td>...</td>\n",
       "      <td>7</td>\n",
       "      <td>30</td>\n",
       "      <td>66</td>\n",
       "      <td>2</td>\n",
       "      <td>0</td>\n",
       "      <td>0</td>\n",
       "      <td>0</td>\n",
       "      <td>0</td>\n",
       "      <td>0</td>\n",
       "      <td>0</td>\n",
       "    </tr>\n",
       "    <tr>\n",
       "      <th>7</th>\n",
       "      <td>20702513</td>\n",
       "      <td>7263583</td>\n",
       "      <td>336516</td>\n",
       "      <td>30600</td>\n",
       "      <td>749314</td>\n",
       "      <td>148923</td>\n",
       "      <td>5861505</td>\n",
       "      <td>467942</td>\n",
       "      <td>480410</td>\n",
       "      <td>294179</td>\n",
       "      <td>...</td>\n",
       "      <td>27</td>\n",
       "      <td>70</td>\n",
       "      <td>67</td>\n",
       "      <td>4</td>\n",
       "      <td>98</td>\n",
       "      <td>8</td>\n",
       "      <td>34</td>\n",
       "      <td>641</td>\n",
       "      <td>575</td>\n",
       "      <td>407</td>\n",
       "    </tr>\n",
       "  </tbody>\n",
       "</table>\n",
       "<p>7 rows × 55 columns</p>\n",
       "</div>"
      ],
      "text/plain": [
       "                  Id  Elevation  Aspect  Slope  \\\n",
       "Cover_Type                                       \n",
       "1           17271528    6756536  344441  28324   \n",
       "2           13635425    6312687  326370  28995   \n",
       "3           17555481    5180594  375133  44558   \n",
       "4           13725905    4802588  298295  39892   \n",
       "5           14011489    6019491  298063  36125   \n",
       "6           17412419    5234278  390133  41010   \n",
       "7           20702513    7263583  336516  30600   \n",
       "\n",
       "            Horizontal_Distance_To_Hydrology  Vertical_Distance_To_Hydrology  \\\n",
       "Cover_Type                                                                     \n",
       "1                                     586456                           89168   \n",
       "2                                     621494                          102250   \n",
       "3                                     455162                          138417   \n",
       "4                                     225801                           86710   \n",
       "5                                     451166                          109882   \n",
       "6                                     345806                           96927   \n",
       "7                                     749314                          148923   \n",
       "\n",
       "            Horizontal_Distance_To_Roadways  Hillshade_9am  Hillshade_Noon  \\\n",
       "Cover_Type                                                                   \n",
       "1                                   5572186         457251          482217   \n",
       "2                                   5239710         462336          486799   \n",
       "3                                   2094327         435576          467772   \n",
       "4                                   1976617         492411          468482   \n",
       "5                                   2871328         482477          471565   \n",
       "6                                   2300358         418096          453515   \n",
       "7                                   5861505         467942          480410   \n",
       "\n",
       "            Hillshade_3pm  ...  Soil_Type31  Soil_Type32  Soil_Type33  \\\n",
       "Cover_Type                 ...                                          \n",
       "1                  311182  ...          114          230          184   \n",
       "2                  308774  ...           97          255          184   \n",
       "3                  305747  ...            0            5            0   \n",
       "4                  241507  ...            0            0            0   \n",
       "5                  262208  ...           87          100          115   \n",
       "6                  318994  ...            7           30           66   \n",
       "7                  294179  ...           27           70           67   \n",
       "\n",
       "            Soil_Type34  Soil_Type35  Soil_Type36  Soil_Type37  Soil_Type38  \\\n",
       "Cover_Type                                                                    \n",
       "1                     0            3            0            0           80   \n",
       "2                    12            1            2            0            7   \n",
       "3                     0            0            0            0            0   \n",
       "4                     0            0            0            0            0   \n",
       "5                     4            0            0            0            0   \n",
       "6                     2            0            0            0            0   \n",
       "7                     4           98            8           34          641   \n",
       "\n",
       "            Soil_Type39  Soil_Type40  \n",
       "Cover_Type                            \n",
       "1                    79           49  \n",
       "2                     3            3  \n",
       "3                     0            0  \n",
       "4                     0            0  \n",
       "5                     0            0  \n",
       "6                     0            0  \n",
       "7                   575          407  \n",
       "\n",
       "[7 rows x 55 columns]"
      ]
     },
     "execution_count": 20,
     "metadata": {},
     "output_type": "execute_result"
    }
   ],
   "source": [
    "train.groupby('Cover_Type').sum()"
   ]
  },
  {
   "cell_type": "code",
   "execution_count": 24,
   "metadata": {},
   "outputs": [],
   "source": [
    "#Assembling the pipeline\n",
    "from sklearn.ensemble import RandomForestClassifier, GradientBoostingClassifier\n",
    "from sklearn.neighbors import KNeighborsClassifier\n",
    "from sklearn.svm import SVC\n",
    "from sklearn.model_selection import GridSearchCV, cross_val_score, StratifiedKFold, learning_curve\n",
    "from sklearn.ensemble import ExtraTreesClassifier\n",
    "from sklearn.linear_model import LogisticRegression\n",
    "from sklearn.pipeline import Pipeline\n",
    "from sklearn.compose import ColumnTransformer\n",
    "from sklearn.metrics import log_loss\n",
    "\n",
    "kfold = StratifiedKFold(n_splits = 10)\n",
    "\n",
    "\n",
    "\n",
    "x_shape = train.shape[0]\n",
    "NFOLDS = 5\n",
    "random_state = 31\n",
    "x_train = df.iloc[:x_shape]\n",
    "x_test = df.iloc[x_shape:]\n",
    "y_train = target_values\n"
   ]
  },
  {
   "cell_type": "code",
   "execution_count": null,
   "metadata": {},
   "outputs": [],
   "source": [
    "models = [RandomForestClassifier(random_state = random_state),\n",
    "         ExtraTreesClassifier(),GradientBoostingClassifier(random_state = random_state)]\n",
    "lst = []\n",
    "for model in models:\n",
    "    r = cross_val_score(model,x_train,y_train,scoring = 'accuracy',cv = kfold,n_jobs = 4)\n",
    "    lst.append(r.mean())\n",
    "results = pd.DataFrame(lst, columns = ['1'])\n",
    "results"
   ]
  },
  {
   "cell_type": "code",
   "execution_count": 25,
   "metadata": {},
   "outputs": [],
   "source": [
    "df = Dataset(x_train,y_train,x_test)"
   ]
  },
  {
   "cell_type": "code",
   "execution_count": 26,
   "metadata": {},
   "outputs": [],
   "source": [
    "rf_params = {\n",
    "    'n_estimators': 200,\n",
    "    'criterion': 'entropy',\n",
    "    'random_state': 0\n",
    "}\n",
    "\n",
    "\n",
    "et_params = {\n",
    "    'n_estimators': 200,\n",
    "    'criterion': 'entropy',\n",
    "    'random_state': 0\n",
    "}\n",
    "\n",
    "\n",
    "lgb_params = {\n",
    "    'n_estimators': 900, \n",
    "    'learning_rate':0.1\n",
    "}\n",
    "\n",
    "logr_params = {\n",
    "        'solver' : 'liblinear',\n",
    "        'multi_class' : 'ovr',\n",
    "        'C': 1,\n",
    "        'random_state': 0}\n",
    "gbm_params = {\n",
    "    'n_estimators' : 200,\n",
    "    'learning_rate' : 0.1\n",
    "}"
   ]
  },
  {
   "cell_type": "code",
   "execution_count": 28,
   "metadata": {},
   "outputs": [],
   "source": [
    "rf = Classifier(dataset = df,estimator = RandomForestClassifier,parameters = rf_params,name = 'rf')\n",
    "et = Classifier(dataset=df, estimator = ExtraTreesClassifier, parameters=et_params,name='et')   \n",
    "gbm = Classifier(dataset=df,estimator=GradientBoostingClassifier, name='gbm')\n",
    "logr = Classifier(dataset=df, estimator=LogisticRegression, parameters=logr_params,name='logr')"
   ]
  },
  {
   "cell_type": "code",
   "execution_count": null,
   "metadata": {},
   "outputs": [],
   "source": [
    "pipeline = ModelsPipeline(rf,et,lgbc,gbm,logr)\n",
    "\n",
    "stack_ds = pipeline.stack(k = NFOLDS, seed = random_state )"
   ]
  },
  {
   "cell_type": "code",
   "execution_count": null,
   "metadata": {},
   "outputs": [],
   "source": [
    "lr = LogisticRegression\n",
    "lr_params = {'C': 5, 'random_state' : random_state, 'solver' : 'liblinear', 'multi_class' : 'ovr',}\n",
    "stacker = Classifier(dataset=stack_ds, estimator=lr, parameters=lr_params)"
   ]
  },
  {
   "cell_type": "code",
   "execution_count": null,
   "metadata": {},
   "outputs": [],
   "source": [
    "results = stacker.validate(k=NFOLDS,scorer=log_loss)"
   ]
  },
  {
   "cell_type": "code",
   "execution_count": null,
   "metadata": {},
   "outputs": [],
   "source": [
    "preds_proba = stacker.predict() \n",
    "predictions = np.round(np.argmax(preds_proba, axis=1)).astype(int) + 1\n",
    "predictions"
   ]
  }
 ],
 "metadata": {
  "kernelspec": {
   "display_name": "Python 3",
   "language": "python",
   "name": "python3"
  },
  "language_info": {
   "codemirror_mode": {
    "name": "ipython",
    "version": 3
   },
   "file_extension": ".py",
   "mimetype": "text/x-python",
   "name": "python",
   "nbconvert_exporter": "python",
   "pygments_lexer": "ipython3",
   "version": "3.8.2"
  }
 },
 "nbformat": 4,
 "nbformat_minor": 4
}
